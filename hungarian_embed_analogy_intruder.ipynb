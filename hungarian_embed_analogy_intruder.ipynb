{
 "cells": [
  {
   "cell_type": "markdown",
   "metadata": {},
   "source": [
    "# [About this demo](https://hlt.bme.hu/en/projects/ai-koalicio-elmeny). [_Mi ez a demó?_ ](https://hlt.bme.hu/hu/projects/ai-koalicio-elmeny)"
   ]
  },
  {
   "cell_type": "code",
   "execution_count": 2,
   "metadata": {},
   "outputs": [],
   "source": [
    "from gensim.models import KeyedVectors\n",
    "\n",
    "import logging\n",
    "logging.basicConfig(level=logging.INFO, format='%(levelname)-8s [%(lineno)d] %(message)s')"
   ]
  },
  {
   "cell_type": "code",
   "execution_count": 3,
   "metadata": {},
   "outputs": [
    {
     "name": "stderr",
     "output_type": "stream",
     "text": [
      "INFO     [422] loading Word2VecKeyedVectors object from data/glove-hu_152.gensim\n",
      "INFO     [461] loading vectors from data/glove-hu_152.gensim.vectors.npy with mmap=None\n",
      "INFO     [494] setting ignored attribute vectors_norm to None\n",
      "INFO     [428] loaded data/glove-hu_152.gensim\n"
     ]
    }
   ],
   "source": [
    "model = KeyedVectors.load('data/glove-hu_152.gensim')"
   ]
  },
  {
   "cell_type": "markdown",
   "metadata": {},
   "source": [
    "# Words similar to _generation_. _A generációhoz hasonló szavak_"
   ]
  },
  {
   "cell_type": "code",
   "execution_count": 22,
   "metadata": {},
   "outputs": [
    {
     "data": {
      "text/plain": [
       "[('nemzedék', 0.8263946771621704),\n",
       " ('felnövekvő', 0.6954586505889893),\n",
       " ('generációk', 0.6587523221969604),\n",
       " ('generációt', 0.6078675985336304),\n",
       " ('nemzedéke', 0.5869390368461609),\n",
       " ('nemzedékek', 0.5864356756210327),\n",
       " ('nemzedéket', 0.5740832090377808),\n",
       " ('felnövő', 0.5585654973983765),\n",
       " ('generációja', 0.5269204378128052),\n",
       " ('fiatalabb', 0.5231344699859619)]"
      ]
     },
     "execution_count": 22,
     "metadata": {},
     "output_type": "execute_result"
    }
   ],
   "source": [
    "model.most_similar('generáció')"
   ]
  },
  {
   "cell_type": "markdown",
   "metadata": {},
   "source": [
    "Entering a word instead of `generation` will calculate its neighbors in the semantic space and similarly in the later cells of this notebook.\n",
    "\n",
    "_A `generáció` helyére más szót beírva kiszámíthatod annak szomszédait a szemantikai térben, és hasonlóan ennek a jegyzetnek a későbbi celláiban._"
   ]
  },
  {
   "cell_type": "code",
   "execution_count": 5,
   "metadata": {},
   "outputs": [
    {
     "data": {
      "text/plain": [
       "[('Washington', 0.7095363736152649),\n",
       " ('Párizs', 0.7067427039146423),\n",
       " ('Bécs', 0.6838010549545288),\n",
       " ('München', 0.6096969842910767),\n",
       " ('közbenjárására', 0.6016756296157837),\n",
       " ('London', 0.5989706516265869),\n",
       " ('Hamburg', 0.5858829021453857),\n",
       " ('Róma', 0.5644040703773499),\n",
       " ('Prága', 0.5347042083740234),\n",
       " ('Velence', 0.5016576051712036)]"
      ]
     },
     "execution_count": 5,
     "metadata": {},
     "output_type": "execute_result"
    }
   ],
   "source": [
    "model.most_similar('Berlin')"
   ]
  },
  {
   "cell_type": "markdown",
   "metadata": {},
   "source": [
    "## But sometimes only related. _De néha csak kapcsolódó_"
   ]
  },
  {
   "cell_type": "code",
   "execution_count": 6,
   "metadata": {},
   "outputs": [
    {
     "data": {
      "text/plain": [
       "[('hátsó', 0.5754691362380981),\n",
       " ('kocsi', 0.5145828723907471),\n",
       " ('függőleges', 0.4888398349285126),\n",
       " ('motor', 0.48529431223869324),\n",
       " ('gép', 0.46033787727355957),\n",
       " ('lába', 0.4533889889717102),\n",
       " ('vízszintes', 0.44893187284469604),\n",
       " ('készülék', 0.4342513680458069),\n",
       " ('ló', 0.4164891242980957),\n",
       " ('asztal', 0.41582542657852173)]"
      ]
     },
     "execution_count": 6,
     "metadata": {},
     "output_type": "execute_result"
    }
   ],
   "source": [
    "model.most_similar('kerék', restrict_vocab=10000)"
   ]
  },
  {
   "cell_type": "markdown",
   "metadata": {},
   "source": [
    "# Analógia: Az _amerikai_hoz úgy viszonyul a _dollár_, mint az _angol_hoz a...\n",
    "# Analogy: _american_ is to _dollar_ as  _english_ to..."
   ]
  },
  {
   "cell_type": "code",
   "execution_count": 7,
   "metadata": {},
   "outputs": [
    {
     "data": {
      "text/plain": [
       "[('font', 0.5008425712585449),\n",
       " ('forint', 0.4470362365245819),\n",
       " ('euró', 0.44421517848968506),\n",
       " ('10000', 0.4439440369606018),\n",
       " ('cent', 0.43897393345832825),\n",
       " ('USD', 0.4348532259464264),\n",
       " ('Ft', 0.40344560146331787),\n",
       " ('nyelv', 0.40088188648223877),\n",
       " ('liter', 0.3865014612674713),\n",
       " ('mrd', 0.3838352560997009)]"
      ]
     },
     "execution_count": 7,
     "metadata": {},
     "output_type": "execute_result"
    }
   ],
   "source": [
    "model.most_similar(negative=['amerikai'], positive=['dollár', 'angol'])"
   ]
  },
  {
   "cell_type": "code",
   "execution_count": 8,
   "metadata": {},
   "outputs": [
    {
     "data": {
      "text/plain": [
       "[('Párizs', 1.0107051134109497),\n",
       " ('Róma', 0.9197112917900085),\n",
       " ('Berlin', 0.9042143821716309),\n",
       " ('Bécs', 0.8998519778251648),\n",
       " ('York', 0.8964487910270691),\n",
       " ('Tokió', 0.8821350932121277),\n",
       " ('Stockholm', 0.8812057375907898),\n",
       " ('New', 0.8623927235603333),\n",
       " ('Washington', 0.8473170399665833),\n",
       " ('Prága', 0.8387464880943298)]"
      ]
     },
     "execution_count": 8,
     "metadata": {},
     "output_type": "execute_result"
    }
   ],
   "source": [
    "model.most_similar_cosmul(negative=['angol'], positive=['London', 'francia'])"
   ]
  },
  {
   "cell_type": "markdown",
   "metadata": {},
   "source": [
    "## _fox_ is to _cunning_ as _dog_ is to..."
   ]
  },
  {
   "cell_type": "code",
   "execution_count": 9,
   "metadata": {},
   "outputs": [
    {
     "data": {
      "text/plain": [
       "[('okos', 0.5325307846069336),\n",
       " ('ügyes', 0.5102209448814392),\n",
       " ('állat', 0.48572587966918945),\n",
       " ('agresszív', 0.40490344166755676),\n",
       " ('sunyi', 0.40433576703071594),\n",
       " ('figura', 0.4007764458656311),\n",
       " ('mindenféle', 0.3979746997356415),\n",
       " ('intelligens', 0.39365139603614807),\n",
       " ('ellenséges', 0.38670995831489563),\n",
       " ('gazda', 0.386260449886322)]"
      ]
     },
     "execution_count": 9,
     "metadata": {},
     "output_type": "execute_result"
    }
   ],
   "source": [
    "model.most_similar(negative=['róka'], positive=['ravasz', 'kutya'])"
   ]
  },
  {
   "cell_type": "markdown",
   "metadata": {},
   "source": [
    "## _bird_ is to _nest_ as _spider_ is to..."
   ]
  },
  {
   "cell_type": "code",
   "execution_count": 16,
   "metadata": {},
   "outputs": [
    {
     "data": {
      "text/plain": [
       "[('hasában', 0.5111105442047119),\n",
       " ('hálóját', 0.50832599401474),\n",
       " ('hálója', 0.4948978126049042),\n",
       " ('hálót', 0.44790297746658325),\n",
       " ('beépítésű', 0.4297615885734558),\n",
       " ('vacsorák', 0.4294481873512268),\n",
       " ('túlnépesedés', 0.428948312997818),\n",
       " ('fojtó', 0.42639869451522827),\n",
       " ('viszályok', 0.4236021637916565),\n",
       " ('össznépi', 0.41906294226646423)]"
      ]
     },
     "execution_count": 16,
     "metadata": {},
     "output_type": "execute_result"
    }
   ],
   "source": [
    "model.most_similar(negative=['madár'], positive=['fészek', 'pók'])"
   ]
  },
  {
   "cell_type": "markdown",
   "metadata": {},
   "source": [
    "The good answer _web_ in the proper grammatical case is the third one."
   ]
  },
  {
   "cell_type": "markdown",
   "metadata": {},
   "source": [
    "# Kakukktojás. _Intruder, odd-man-out_"
   ]
  },
  {
   "cell_type": "markdown",
   "metadata": {},
   "source": [
    "## _dinner_, _cereal_, _breakfast_, _lunch_"
   ]
  },
  {
   "cell_type": "code",
   "execution_count": 11,
   "metadata": {},
   "outputs": [
    {
     "name": "stderr",
     "output_type": "stream",
     "text": [
      "/home/makrai/tool/python/miniconda3/lib/python3.7/site-packages/gensim/models/keyedvectors.py:877: FutureWarning: arrays to stack must be passed as a \"sequence\" type such as list or tuple. Support for non-sequence iterables such as generators is deprecated as of NumPy 1.16 and will raise an error in the future.\n",
      "  vectors = vstack(self.word_vec(word, use_norm=True) for word in used_words).astype(REAL)\n"
     ]
    },
    {
     "data": {
      "text/plain": [
       "'gabona'"
      ]
     },
     "execution_count": 11,
     "metadata": {},
     "output_type": "execute_result"
    }
   ],
   "source": [
    "model.doesnt_match(['vacsora', 'gabona', 'reggeli', 'ebéd'])"
   ]
  },
  {
   "cell_type": "markdown",
   "metadata": {},
   "source": [
    "## _marine_, _industrial_, _technological_, _heroic_:"
   ]
  },
  {
   "cell_type": "code",
   "execution_count": 12,
   "metadata": {},
   "outputs": [
    {
     "data": {
      "text/plain": [
       "'hősies'"
      ]
     },
     "execution_count": 12,
     "metadata": {},
     "output_type": "execute_result"
    }
   ],
   "source": [
    "model.doesnt_match([\"tengeri\", \"ipari\", \"technológiai\", \"hősies\"])"
   ]
  },
  {
   "cell_type": "markdown",
   "metadata": {},
   "source": [
    "## _bathroom_, _wardrobe_, _attic_, _balcony_, _track_, _toilet_"
   ]
  },
  {
   "cell_type": "code",
   "execution_count": 13,
   "metadata": {},
   "outputs": [
    {
     "data": {
      "text/plain": [
       "'pálya'"
      ]
     },
     "execution_count": 13,
     "metadata": {},
     "output_type": "execute_result"
    }
   ],
   "source": [
    "model.doesnt_match([\"fürdőszoba\", \"szekrény\", \"tetőtér\", \"erkély\", \"pálya\", \"WC\"])"
   ]
  },
  {
   "cell_type": "markdown",
   "metadata": {},
   "source": [
    "## _big,_ _small,_ _huge_"
   ]
  },
  {
   "cell_type": "code",
   "execution_count": 14,
   "metadata": {},
   "outputs": [
    {
     "data": {
      "text/plain": [
       "'kicsi'"
      ]
     },
     "execution_count": 14,
     "metadata": {},
     "output_type": "execute_result"
    }
   ],
   "source": [
    "model.doesnt_match(['nagy','kicsi','óriási'])"
   ]
  },
  {
   "cell_type": "markdown",
   "metadata": {},
   "source": [
    "## _tomatoes_, _peppers_, _carrots_, _apples_"
   ]
  },
  {
   "cell_type": "code",
   "execution_count": 24,
   "metadata": {},
   "outputs": [
    {
     "data": {
      "text/plain": [
       "'paradicsom'"
      ]
     },
     "execution_count": 24,
     "metadata": {},
     "output_type": "execute_result"
    }
   ],
   "source": [
    "model.doesnt_match(['paradicsom', 'paprika','répa','alma'])"
   ]
  },
  {
   "cell_type": "markdown",
   "metadata": {},
   "source": [
    "## _voice_, _music_, _noise_"
   ]
  },
  {
   "cell_type": "code",
   "execution_count": 17,
   "metadata": {},
   "outputs": [
    {
     "name": "stderr",
     "output_type": "stream",
     "text": [
      "/home/makrai/tool/python/miniconda3/lib/python3.7/site-packages/gensim/models/keyedvectors.py:877: FutureWarning: arrays to stack must be passed as a \"sequence\" type such as list or tuple. Support for non-sequence iterables such as generators is deprecated as of NumPy 1.16 and will raise an error in the future.\n",
      "  vectors = vstack(self.word_vec(word, use_norm=True) for word in used_words).astype(REAL)\n"
     ]
    },
    {
     "data": {
      "text/plain": [
       "'zaj'"
      ]
     },
     "execution_count": 17,
     "metadata": {},
     "output_type": "execute_result"
    }
   ],
   "source": [
    "model.doesnt_match(['hang','zene','zaj'])"
   ]
  },
  {
   "cell_type": "markdown",
   "metadata": {},
   "source": [
    "## Where this model fails"
   ]
  },
  {
   "cell_type": "code",
   "execution_count": 26,
   "metadata": {},
   "outputs": [
    {
     "name": "stderr",
     "output_type": "stream",
     "text": [
      "/home/makrai/tool/python/miniconda3/lib/python3.7/site-packages/gensim/models/keyedvectors.py:877: FutureWarning: arrays to stack must be passed as a \"sequence\" type such as list or tuple. Support for non-sequence iterables such as generators is deprecated as of NumPy 1.16 and will raise an error in the future.\n",
      "  vectors = vstack(self.word_vec(word, use_norm=True) for word in used_words).astype(REAL)\n"
     ]
    },
    {
     "data": {
      "text/plain": [
       "'levél'"
      ]
     },
     "execution_count": 26,
     "metadata": {},
     "output_type": "execute_result"
    }
   ],
   "source": [
    " model.doesnt_match(['levél','fa','virág','rózsaszín'])"
   ]
  },
  {
   "cell_type": "markdown",
   "metadata": {},
   "source": [
    "These words mean _leaf_, _tree_, _flower_, and _pink_, put, as Bálint notes, that the Hungarian word _levél_ is ambiguous: besides _leaf_, it also means _letter_."
   ]
  },
  {
   "cell_type": "markdown",
   "metadata": {},
   "source": [
    "## _dog_, _cat_, _pig_, _wolf_"
   ]
  },
  {
   "cell_type": "code",
   "execution_count": 25,
   "metadata": {},
   "outputs": [
    {
     "name": "stderr",
     "output_type": "stream",
     "text": [
      "/home/makrai/tool/python/miniconda3/lib/python3.7/site-packages/gensim/models/keyedvectors.py:877: FutureWarning: arrays to stack must be passed as a \"sequence\" type such as list or tuple. Support for non-sequence iterables such as generators is deprecated as of NumPy 1.16 and will raise an error in the future.\n",
      "  vectors = vstack(self.word_vec(word, use_norm=True) for word in used_words).astype(REAL)\n"
     ]
    },
    {
     "data": {
      "text/plain": [
       "'disznó'"
      ]
     },
     "execution_count": 25,
     "metadata": {},
     "output_type": "execute_result"
    }
   ],
   "source": [
    " model.doesnt_match(['kutya','macska','disznó','farkas'])"
   ]
  },
  {
   "cell_type": "markdown",
   "metadata": {},
   "source": [
    "# Köszönetnyilvánítás és ,,olvass tovább\"\n",
    "# Credit for examples and _Further reading_\n",
    "\n",
    "* https://rare-technologies.com/word2vec-tutorial/#bonus_app\n",
    "* http://bionlp-www.utu.fi/wv_demo/\n",
    "* https://compositional-distributional-semantics.fandom.com/wiki/Word_intrusion_detection_task\n",
    "* Bálint Sass, https://github.com/sassbalint/kakukktojas"
   ]
  }
 ],
 "metadata": {
  "kernelspec": {
   "display_name": "Python 3",
   "language": "python",
   "name": "python3"
  },
  "language_info": {
   "codemirror_mode": {
    "name": "ipython",
    "version": 3
   },
   "file_extension": ".py",
   "mimetype": "text/x-python",
   "name": "python",
   "nbconvert_exporter": "python",
   "pygments_lexer": "ipython3",
   "version": "3.7.1"
  }
 },
 "nbformat": 4,
 "nbformat_minor": 2
}
