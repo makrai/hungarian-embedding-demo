{
 "cells": [
  {
   "cell_type": "code",
   "execution_count": 12,
   "metadata": {},
   "outputs": [],
   "source": [
    "import os\n",
    "\n",
    "from gensim.models import KeyedVectors\n",
    "\n",
    "import logging\n",
    "logging.basicConfig(level=logging.DEBUG, format='%(levelname)-8s [%(lineno)d] %(message)s')"
   ]
  },
  {
   "cell_type": "code",
   "execution_count": 13,
   "metadata": {},
   "outputs": [],
   "source": [
    "def load_with_new_gensim(gensim_filen):\n",
    "    logging.info('Loading gensim format..')\n",
    "    embed = KeyedVectors.load(gensim_filen)\n",
    "    if hasattr(embed, 'wv'):\n",
    "        return embed\n",
    "    else:\n",
    "        logging.info('Loadin word2vec format..')\n",
    "        w2v_filen = '{}.w2v'.format(os.path.splitext(gensim_filen)[0])\n",
    "        model = KeyedVectors.load_word2vec_format(w2v_filen)\n",
    "        model.save(gensim_filen)\n",
    "        return model"
   ]
  },
  {
   "cell_type": "code",
   "execution_count": 21,
   "metadata": {},
   "outputs": [
    {
     "name": "stderr",
     "output_type": "stream",
     "text": [
      "INFO     [2] Loading gensim format..\n",
      "INFO     [422] loading Word2VecKeyedVectors object from /mnt/permanent/Language/Hungarian/Embed/webkorp/glove-hu_152.gensim\n",
      "DEBUG    [176] {'uri': '/mnt/permanent/Language/Hungarian/Embed/webkorp/glove-hu_152.gensim', 'mode': 'rb', 'kw': {}}\n",
      "INFO     [461] loading syn0 from /mnt/permanent/Language/Hungarian/Embed/webkorp/glove-hu_152.gensim.syn0.npy with mmap=None\n",
      "INFO     [494] setting ignored attribute syn0norm to None\n",
      "INFO     [428] loaded /mnt/permanent/Language/Hungarian/Embed/webkorp/glove-hu_152.gensim\n",
      "INFO     [7] Loadin word2vec format..\n",
      "INFO     [341] loading projection weights from /mnt/permanent/Language/Hungarian/Embed/webkorp/glove-hu_152.w2v\n",
      "DEBUG    [176] {'uri': '/mnt/permanent/Language/Hungarian/Embed/webkorp/glove-hu_152.w2v', 'mode': 'rb', 'kw': {}}\n",
      "INFO     [405] loaded (99593, 152) matrix from /mnt/permanent/Language/Hungarian/Embed/webkorp/glove-hu_152.w2v\n",
      "INFO     [542] saving Word2VecKeyedVectors object under /mnt/permanent/Language/Hungarian/Embed/webkorp/glove-hu_152.gensim, separately None\n",
      "INFO     [616] storing np array 'vectors' to /mnt/permanent/Language/Hungarian/Embed/webkorp/glove-hu_152.gensim.vectors.npy\n",
      "INFO     [648] not storing attribute vectors_norm\n",
      "DEBUG    [176] {'uri': '/mnt/permanent/Language/Hungarian/Embed/webkorp/glove-hu_152.gensim', 'mode': 'wb', 'kw': {}}\n",
      "INFO     [556] saved /mnt/permanent/Language/Hungarian/Embed/webkorp/glove-hu_152.gensim\n"
     ]
    }
   ],
   "source": [
    "model = load_with_new_gensim('/mnt/permanent/Language/Hungarian/Embed/webkorp/glove-hu_152.gensim')"
   ]
  },
  {
   "cell_type": "code",
   "execution_count": 23,
   "metadata": {},
   "outputs": [
    {
     "data": {
      "text/plain": [
       "[('okos', 0.5737779140472412),\n",
       " ('kártyák', 0.4940541684627533),\n",
       " ('jólelkű', 0.48240384459495544),\n",
       " ('Intelligens', 0.4675964117050171),\n",
       " ('környezetkímélő', 0.4591735601425171),\n",
       " ('tűzjelző', 0.4433826208114624),\n",
       " ('lény', 0.44252920150756836),\n",
       " ('emberséges', 0.4347291886806488),\n",
       " ('kifinomult', 0.4329149127006531),\n",
       " ('csinos', 0.4310036897659302)]"
      ]
     },
     "execution_count": 23,
     "metadata": {},
     "output_type": "execute_result"
    }
   ],
   "source": [
    "model.most_similar('intelligens')#, restrict_vocab=10)"
   ]
  },
  {
   "cell_type": "markdown",
   "metadata": {},
   "source": [
    "# Köszönetnyilvánítás\n",
    "\n",
    "* https://rare-technologies.com/word2vec-tutorial/#bonus_app\n",
    "* http://bionlp-www.utu.fi/wv_demo/"
   ]
  }
 ],
 "metadata": {
  "kernelspec": {
   "display_name": "Python 3",
   "language": "python",
   "name": "python3"
  },
  "language_info": {
   "codemirror_mode": {
    "name": "ipython",
    "version": 3
   },
   "file_extension": ".py",
   "mimetype": "text/x-python",
   "name": "python",
   "nbconvert_exporter": "python",
   "pygments_lexer": "ipython3",
   "version": "3.7.1"
  }
 },
 "nbformat": 4,
 "nbformat_minor": 2
}
